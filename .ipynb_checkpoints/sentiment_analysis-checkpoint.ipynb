{
 "cells": [
  {
   "cell_type": "code",
   "execution_count": 1,
   "metadata": {},
   "outputs": [],
   "source": [
    "# import libraries\n",
    "\n",
    "import numpy as np\n",
    "import pandas as pd\n",
    "import matplotlib.pyplot as plt\n",
    "import seaborn as sns\n",
    "\n",
    "\n",
    "# And libraries for data transformation\n",
    "import datetime\n",
    "from string import punctuation\n",
    "\n",
    "#words counter\n",
    "from collections import Counter\n",
    "import re\n",
    "from nltk.corpus import stopwords\n",
    "from nltk.stem.porter import PorterStemmer\n",
    "import spacy\n",
    "from nltk.tokenize import word_tokenize \n"
   ]
  },
  {
   "cell_type": "code",
   "execution_count": 2,
   "metadata": {},
   "outputs": [
    {
     "data": {
      "text/html": [
       "<div>\n",
       "<style scoped>\n",
       "    .dataframe tbody tr th:only-of-type {\n",
       "        vertical-align: middle;\n",
       "    }\n",
       "\n",
       "    .dataframe tbody tr th {\n",
       "        vertical-align: top;\n",
       "    }\n",
       "\n",
       "    .dataframe thead th {\n",
       "        text-align: right;\n",
       "    }\n",
       "</style>\n",
       "<table border=\"1\" class=\"dataframe\">\n",
       "  <thead>\n",
       "    <tr style=\"text-align: right;\">\n",
       "      <th></th>\n",
       "      <th>screen_name</th>\n",
       "      <th>created_at</th>\n",
       "      <th>location</th>\n",
       "      <th>source</th>\n",
       "      <th>hashtags</th>\n",
       "      <th>text</th>\n",
       "    </tr>\n",
       "  </thead>\n",
       "  <tbody>\n",
       "    <tr>\n",
       "      <th>0</th>\n",
       "      <td>CulverleyGreen</td>\n",
       "      <td>2020-04-11 12:22:18</td>\n",
       "      <td>Catford</td>\n",
       "      <td>Twitter for iPhone</td>\n",
       "      <td>NaN</td>\n",
       "      <td>Respect your neighbours and the environment by...</td>\n",
       "    </tr>\n",
       "    <tr>\n",
       "      <th>1</th>\n",
       "      <td>wellsgerge</td>\n",
       "      <td>2020-04-11 12:22:18</td>\n",
       "      <td>Coast</td>\n",
       "      <td>Twitter for Android</td>\n",
       "      <td>NaN</td>\n",
       "      <td>@_Maloba_ Covid-19 is real..R.I.P</td>\n",
       "    </tr>\n",
       "    <tr>\n",
       "      <th>2</th>\n",
       "      <td>HicSqueekGiggle</td>\n",
       "      <td>2020-04-11 12:22:18</td>\n",
       "      <td>Burleson, Tx</td>\n",
       "      <td>Twitter for Android</td>\n",
       "      <td>NaN</td>\n",
       "      <td>.@CNN used a pic of people during Hurricane Ha...</td>\n",
       "    </tr>\n",
       "    <tr>\n",
       "      <th>3</th>\n",
       "      <td>elsitlab</td>\n",
       "      <td>2020-04-11 12:22:18</td>\n",
       "      <td>Paris, France</td>\n",
       "      <td>Twitter for Android</td>\n",
       "      <td>NaN</td>\n",
       "      <td>COVID-19 tracing is the most significant techn...</td>\n",
       "    </tr>\n",
       "    <tr>\n",
       "      <th>4</th>\n",
       "      <td>RightLax1</td>\n",
       "      <td>2020-04-11 12:22:18</td>\n",
       "      <td>St Louis, MO</td>\n",
       "      <td>Twitter for Android</td>\n",
       "      <td>NaN</td>\n",
       "      <td>BREAKING: Democrat Kentucky Governor Andy Besh...</td>\n",
       "    </tr>\n",
       "  </tbody>\n",
       "</table>\n",
       "</div>"
      ],
      "text/plain": [
       "       screen_name           created_at       location               source  \\\n",
       "0   CulverleyGreen  2020-04-11 12:22:18        Catford   Twitter for iPhone   \n",
       "1       wellsgerge  2020-04-11 12:22:18          Coast  Twitter for Android   \n",
       "2  HicSqueekGiggle  2020-04-11 12:22:18   Burleson, Tx  Twitter for Android   \n",
       "3         elsitlab  2020-04-11 12:22:18  Paris, France  Twitter for Android   \n",
       "4        RightLax1  2020-04-11 12:22:18   St Louis, MO  Twitter for Android   \n",
       "\n",
       "  hashtags                                               text  \n",
       "0      NaN  Respect your neighbours and the environment by...  \n",
       "1      NaN                  @_Maloba_ Covid-19 is real..R.I.P  \n",
       "2      NaN  .@CNN used a pic of people during Hurricane Ha...  \n",
       "3      NaN  COVID-19 tracing is the most significant techn...  \n",
       "4      NaN  BREAKING: Democrat Kentucky Governor Andy Besh...  "
      ]
     },
     "execution_count": 2,
     "metadata": {},
     "output_type": "execute_result"
    }
   ],
   "source": [
    "# load data\n",
    "df = pd.read_csv('test_data/2020-04-11tweets-covid-19.csv')\n",
    "df.head()"
   ]
  },
  {
   "cell_type": "code",
   "execution_count": 3,
   "metadata": {},
   "outputs": [],
   "source": [
    "# Transform string data and remove punctuation\n",
    "df['text_clean'] = df['text'].apply(lambda x: str(x).lower())\n",
    "df['text_clean'] = df['text'].apply(lambda x: ''.join([c for c in x if c not in punctuation]))"
   ]
  },
  {
   "cell_type": "code",
   "execution_count": 4,
   "metadata": {},
   "outputs": [],
   "source": [
    "# Get length of review for Exploratory data analysis (EDA)\n",
    "df['text_length'] = df['text'].apply(lambda x: len(x))"
   ]
  },
  {
   "cell_type": "code",
   "execution_count": 5,
   "metadata": {},
   "outputs": [
    {
     "data": {
      "text/html": [
       "<div>\n",
       "<style scoped>\n",
       "    .dataframe tbody tr th:only-of-type {\n",
       "        vertical-align: middle;\n",
       "    }\n",
       "\n",
       "    .dataframe tbody tr th {\n",
       "        vertical-align: top;\n",
       "    }\n",
       "\n",
       "    .dataframe thead th {\n",
       "        text-align: right;\n",
       "    }\n",
       "</style>\n",
       "<table border=\"1\" class=\"dataframe\">\n",
       "  <thead>\n",
       "    <tr style=\"text-align: right;\">\n",
       "      <th></th>\n",
       "      <th>screen_name</th>\n",
       "      <th>created_at</th>\n",
       "      <th>location</th>\n",
       "      <th>source</th>\n",
       "      <th>hashtags</th>\n",
       "      <th>text</th>\n",
       "      <th>text_clean</th>\n",
       "      <th>text_length</th>\n",
       "    </tr>\n",
       "  </thead>\n",
       "  <tbody>\n",
       "    <tr>\n",
       "      <th>0</th>\n",
       "      <td>CulverleyGreen</td>\n",
       "      <td>2020-04-11 12:22:18</td>\n",
       "      <td>Catford</td>\n",
       "      <td>Twitter for iPhone</td>\n",
       "      <td>NaN</td>\n",
       "      <td>Respect your neighbours and the environment by...</td>\n",
       "      <td>Respect your neighbours and the environment by...</td>\n",
       "      <td>299</td>\n",
       "    </tr>\n",
       "    <tr>\n",
       "      <th>1</th>\n",
       "      <td>wellsgerge</td>\n",
       "      <td>2020-04-11 12:22:18</td>\n",
       "      <td>Coast</td>\n",
       "      <td>Twitter for Android</td>\n",
       "      <td>NaN</td>\n",
       "      <td>@_Maloba_ Covid-19 is real..R.I.P</td>\n",
       "      <td>Maloba Covid19 is realRIP</td>\n",
       "      <td>33</td>\n",
       "    </tr>\n",
       "    <tr>\n",
       "      <th>2</th>\n",
       "      <td>HicSqueekGiggle</td>\n",
       "      <td>2020-04-11 12:22:18</td>\n",
       "      <td>Burleson, Tx</td>\n",
       "      <td>Twitter for Android</td>\n",
       "      <td>NaN</td>\n",
       "      <td>.@CNN used a pic of people during Hurricane Ha...</td>\n",
       "      <td>CNN used a pic of people during Hurricane Harv...</td>\n",
       "      <td>171</td>\n",
       "    </tr>\n",
       "    <tr>\n",
       "      <th>3</th>\n",
       "      <td>elsitlab</td>\n",
       "      <td>2020-04-11 12:22:18</td>\n",
       "      <td>Paris, France</td>\n",
       "      <td>Twitter for Android</td>\n",
       "      <td>NaN</td>\n",
       "      <td>COVID-19 tracing is the most significant techn...</td>\n",
       "      <td>COVID19 tracing is the most significant techno...</td>\n",
       "      <td>274</td>\n",
       "    </tr>\n",
       "    <tr>\n",
       "      <th>4</th>\n",
       "      <td>RightLax1</td>\n",
       "      <td>2020-04-11 12:22:18</td>\n",
       "      <td>St Louis, MO</td>\n",
       "      <td>Twitter for Android</td>\n",
       "      <td>NaN</td>\n",
       "      <td>BREAKING: Democrat Kentucky Governor Andy Besh...</td>\n",
       "      <td>BREAKING Democrat Kentucky Governor Andy Beshe...</td>\n",
       "      <td>238</td>\n",
       "    </tr>\n",
       "  </tbody>\n",
       "</table>\n",
       "</div>"
      ],
      "text/plain": [
       "       screen_name           created_at       location               source  \\\n",
       "0   CulverleyGreen  2020-04-11 12:22:18        Catford   Twitter for iPhone   \n",
       "1       wellsgerge  2020-04-11 12:22:18          Coast  Twitter for Android   \n",
       "2  HicSqueekGiggle  2020-04-11 12:22:18   Burleson, Tx  Twitter for Android   \n",
       "3         elsitlab  2020-04-11 12:22:18  Paris, France  Twitter for Android   \n",
       "4        RightLax1  2020-04-11 12:22:18   St Louis, MO  Twitter for Android   \n",
       "\n",
       "  hashtags                                               text  \\\n",
       "0      NaN  Respect your neighbours and the environment by...   \n",
       "1      NaN                  @_Maloba_ Covid-19 is real..R.I.P   \n",
       "2      NaN  .@CNN used a pic of people during Hurricane Ha...   \n",
       "3      NaN  COVID-19 tracing is the most significant techn...   \n",
       "4      NaN  BREAKING: Democrat Kentucky Governor Andy Besh...   \n",
       "\n",
       "                                          text_clean  text_length  \n",
       "0  Respect your neighbours and the environment by...          299  \n",
       "1                          Maloba Covid19 is realRIP           33  \n",
       "2  CNN used a pic of people during Hurricane Harv...          171  \n",
       "3  COVID19 tracing is the most significant techno...          274  \n",
       "4  BREAKING Democrat Kentucky Governor Andy Beshe...          238  "
      ]
     },
     "execution_count": 5,
     "metadata": {},
     "output_type": "execute_result"
    }
   ],
   "source": [
    "# Check the data again\n",
    "df.head()"
   ]
  },
  {
   "cell_type": "code",
   "execution_count": 6,
   "metadata": {},
   "outputs": [
    {
     "data": {
      "text/plain": [
       "Text(0.5, 1.0, 'Distribution of review length')"
      ]
     },
     "execution_count": 6,
     "metadata": {},
     "output_type": "execute_result"
    },
    {
     "data": {
      "image/png": "[encoded data removed]",
      "text/plain": [
       "<Figure size 432x288 with 1 Axes>"
      ]
     },
     "metadata": {
      "needs_background": "light"
     },
     "output_type": "display_data"
    }
   ],
   "source": [
    "# And take a look at the distribution of the length\n",
    "df['text_length'].hist(bins=20)\n",
    "plt.title('Distribution of review length')"
   ]
  },
  {
   "cell_type": "code",
   "execution_count": 7,
   "metadata": {},
   "outputs": [
    {
     "ename": "NameError",
     "evalue": "name 'sns' is not defined",
     "output_type": "error",
     "traceback": [
      "\u001b[0;31m---------------------------------------------------------------------------\u001b[0m",
      "\u001b[0;31mNameError\u001b[0m                                 Traceback (most recent call last)",
      "\u001b[0;32m<ipython-input-7-0d916872c0d2>\u001b[0m in \u001b[0;36m<module>\u001b[0;34m\u001b[0m\n\u001b[1;32m      2\u001b[0m \u001b[0;34m\u001b[0m\u001b[0m\n\u001b[1;32m      3\u001b[0m \u001b[0mnp\u001b[0m\u001b[0;34m.\u001b[0m\u001b[0mrandom\u001b[0m\u001b[0;34m.\u001b[0m\u001b[0mseed\u001b[0m\u001b[0;34m(\u001b[0m\u001b[0;36m321\u001b[0m\u001b[0;34m)\u001b[0m\u001b[0;34m\u001b[0m\u001b[0;34m\u001b[0m\u001b[0m\n\u001b[0;32m----> 4\u001b[0;31m \u001b[0msns\u001b[0m\u001b[0;34m.\u001b[0m\u001b[0mset\u001b[0m\u001b[0;34m(\u001b[0m\u001b[0mrc\u001b[0m\u001b[0;34m=\u001b[0m\u001b[0;34m{\u001b[0m\u001b[0;34m'figure.figsize'\u001b[0m\u001b[0;34m:\u001b[0m\u001b[0;34m(\u001b[0m\u001b[0;36m8\u001b[0m\u001b[0;34m,\u001b[0m\u001b[0;36m8\u001b[0m\u001b[0;34m)\u001b[0m\u001b[0;34m}\u001b[0m\u001b[0;34m)\u001b[0m\u001b[0;34m\u001b[0m\u001b[0;34m\u001b[0m\u001b[0m\n\u001b[0m\u001b[1;32m      5\u001b[0m \u001b[0mtext\u001b[0m \u001b[0;34m=\u001b[0m \u001b[0;34m' '\u001b[0m\u001b[0;34m.\u001b[0m\u001b[0mjoin\u001b[0m\u001b[0;34m(\u001b[0m\u001b[0mdata\u001b[0m\u001b[0;34m[\u001b[0m\u001b[0;34m'text_clean'\u001b[0m\u001b[0;34m]\u001b[0m\u001b[0;34m.\u001b[0m\u001b[0mtolist\u001b[0m\u001b[0;34m(\u001b[0m\u001b[0;34m)\u001b[0m\u001b[0;34m)\u001b[0m\u001b[0;34m\u001b[0m\u001b[0;34m\u001b[0m\u001b[0m\n\u001b[1;32m      6\u001b[0m \u001b[0;34m\u001b[0m\u001b[0m\n",
      "\u001b[0;31mNameError\u001b[0m: name 'sns' is not defined"
     ]
    }
   ],
   "source": [
    "#words cloud of most comman words \n",
    "\n",
    "np.random.seed(321)\n",
    "sns.set(rc={'figure.figsize':(8,8)})\n",
    "text = ' '.join(data['text_clean'].tolist())\n",
    "\n",
    "wordcloud = WordCloud(background_color=\"white\").generate(text)\n",
    "plt.figure()\n",
    "plt.imshow(wordcloud, interpolation=\"bilinear\")\n",
    "plt.axis(\"off\")\n",
    "plt.margins(x=0, y=0)\n",
    "plt.title('Tweets',size=20)\n",
    "plt.show()"
   ]
  },
  {
   "cell_type": "code",
   "execution_count": null,
   "metadata": {},
   "outputs": [],
   "source": []
  }
 ],
 "metadata": {
  "kernelspec": {
   "display_name": "Python 3",
   "language": "python",
   "name": "python3"
  },
  "language_info": {
   "codemirror_mode": {
    "name": "ipython",
    "version": 3
   },
   "file_extension": ".py",
   "mimetype": "text/x-python",
   "name": "python",
   "nbconvert_exporter": "python",
   "pygments_lexer": "ipython3",
   "version": "3.7.6"
  }
 },
 "nbformat": 4,
 "nbformat_minor": 4
}
